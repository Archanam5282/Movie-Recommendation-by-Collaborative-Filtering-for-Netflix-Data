{
 "cells": [
  {
   "cell_type": "markdown",
   "metadata": {},
   "source": [
    "# Problem 2: Analyzing the Netflix Data"
   ]
  },
  {
   "cell_type": "code",
   "execution_count": 11,
   "metadata": {},
   "outputs": [],
   "source": []
  },
  {
   "cell_type": "code",
   "execution_count": 1,
   "metadata": {},
   "outputs": [],
   "source": [
    "# Change to the location of data files\n",
    "dbfs_dir = 's3://archanamaroldsde.bucket/'\n",
    "books = dbfs_dir + '/amazon_Books.csv'\n"
   ]
  },
  {
   "cell_type": "code",
   "execution_count": 2,
   "metadata": {},
   "outputs": [
    {
     "data": {
      "text/plain": [
       "'s3://archanamaroldsde.bucket//amazon_Books.csv'"
      ]
     },
     "execution_count": 2,
     "metadata": {},
     "output_type": "execute_result"
    }
   ],
   "source": [
    "books"
   ]
  },
  {
   "cell_type": "code",
   "execution_count": 3,
   "metadata": {},
   "outputs": [],
   "source": [
    "from pyspark.sql.types import *\n",
    "\n",
    "book_df_schema = StructType(\n",
    "  [StructField('userId', StringType()),\n",
    "   StructField('bookId', StringType()),\n",
    "   StructField('rating', DoubleType())]\n",
    ")"
   ]
  },
  {
   "cell_type": "code",
   "execution_count": 4,
   "metadata": {},
   "outputs": [
    {
     "data": {
      "text/plain": [
       "DataFrame[userId: string, bookId: string, rating: double]"
      ]
     },
     "execution_count": 4,
     "metadata": {},
     "output_type": "execute_result"
    }
   ],
   "source": [
    "from pyspark.sql.functions import regexp_extract\n",
    "from pyspark.sql.types import *\n",
    "\n",
    "book_df = sqlContext.read.format('csv').options(header=True, inferSchema=False).schema(book_df_schema).load(books)\n",
    "book_df.cache()\n"
   ]
  },
  {
   "cell_type": "code",
   "execution_count": 5,
   "metadata": {},
   "outputs": [
    {
     "name": "stdout",
     "output_type": "stream",
     "text": [
      "+--------------+------+------+\n",
      "|        userId|bookId|rating|\n",
      "+--------------+------+------+\n",
      "|A2IIIDRK3PRRZY|   116|   1.0|\n",
      "|A1TADCM7YWPQ8M|   868|   4.0|\n",
      "| AWGH7V0BDOJKB| 13714|   4.0|\n",
      "|A3UTQPQPM4TQO0| 13714|   5.0|\n",
      "| A8ZS0I5L5V31B| 13714|   5.0|\n",
      "+--------------+------+------+\n",
      "only showing top 5 rows\n",
      "\n"
     ]
    }
   ],
   "source": [
    "book_df.show(5)"
   ]
  },
  {
   "cell_type": "code",
   "execution_count": 48,
   "metadata": {},
   "outputs": [
    {
     "data": {
      "text/plain": [
       "1048575"
      ]
     },
     "execution_count": 48,
     "metadata": {},
     "output_type": "execute_result"
    }
   ],
   "source": [
    "book_df.count()"
   ]
  },
  {
   "cell_type": "code",
   "execution_count": 49,
   "metadata": {},
   "outputs": [
    {
     "data": {
      "text/plain": [
       "838860.0"
      ]
     },
     "execution_count": 49,
     "metadata": {},
     "output_type": "execute_result"
    }
   ],
   "source": [
    "1048575*0.8"
   ]
  },
  {
   "cell_type": "code",
   "execution_count": 6,
   "metadata": {},
   "outputs": [],
   "source": [
    "train, test =book_df.randomSplit([0.8, 0.2])"
   ]
  },
  {
   "cell_type": "code",
   "execution_count": 51,
   "metadata": {},
   "outputs": [
    {
     "data": {
      "text/plain": [
       "209976"
      ]
     },
     "execution_count": 51,
     "metadata": {},
     "output_type": "execute_result"
    }
   ],
   "source": [
    "test.count()"
   ]
  },
  {
   "cell_type": "code",
   "execution_count": 7,
   "metadata": {},
   "outputs": [
    {
     "name": "stdout",
     "output_type": "stream",
     "text": [
      "+--------------------+----------+------+\n",
      "|              userId|    bookId|rating|\n",
      "+--------------------+----------+------+\n",
      "|A00039763E5V43M02...|000727405X|   4.0|\n",
      "|A00369122K166QHZJ...|   7124015|   5.0|\n",
      "|A00652961QVJY2CGH...|   2007770|   4.0|\n",
      "+--------------------+----------+------+\n",
      "only showing top 3 rows\n",
      "\n"
     ]
    }
   ],
   "source": [
    "train.show(3)"
   ]
  },
  {
   "cell_type": "markdown",
   "metadata": {},
   "source": [
    "## User-based Collaborative Filtering "
   ]
  },
  {
   "cell_type": "markdown",
   "metadata": {},
   "source": [
    "The process for creating a User Based recommendation system is as follows:\n",
    "1.\tFirst select a user with the movies the user has watched\n",
    "\n",
    "2.\tBased on his rating to movies, find the top X neighbours/ similar users\n",
    "\n",
    "3.\tGet the watched movie record of the user for each neighbour.\n",
    "\n",
    "4.\tCalculate a similarity score using the formula\n",
    "\n",
    "5.\tRecommend the items with the highest score\n",
    "\n"
   ]
  },
  {
   "cell_type": "code",
   "execution_count": 8,
   "metadata": {},
   "outputs": [],
   "source": [
    "#test_data1=test_data.toPandas()\n",
    "test_data_matrix=test1.pivot(index='userId', columns='bookId', values='rating')\n",
    "test_data_matrix1=test_data_matrix.fillna(0)\n",
    "test_data_matrix2=test_data_matrix1.values"
   ]
  },
  {
   "cell_type": "code",
   "execution_count": 9,
   "metadata": {},
   "outputs": [
    {
     "data": {
      "text/plain": [
       "array([[ 0.,  0.,  0., ...,  0.,  0.,  0.],\n",
       "       [ 0.,  0.,  0., ...,  0.,  0.,  0.],\n",
       "       [ 0.,  0.,  0., ...,  0.,  0.,  0.],\n",
       "       ..., \n",
       "       [ 0.,  0.,  0., ...,  0.,  0.,  0.],\n",
       "       [ 0.,  0.,  0., ...,  0.,  0.,  0.],\n",
       "       [ 0.,  0.,  0., ...,  0.,  0.,  0.]])"
      ]
     },
     "execution_count": 9,
     "metadata": {},
     "output_type": "execute_result"
    }
   ],
   "source": [
    "test_data_matrix2"
   ]
  },
  {
   "cell_type": "code",
   "execution_count": 10,
   "metadata": {},
   "outputs": [],
   "source": [
    "train_data_matrix=train1.pivot(index='userId', columns='bookId', values='rating')\n",
    "train_data_matrix1=train_data_matrix.fillna(0)\n",
    "train_data_matrix2=train_data_matrix1.values"
   ]
  },
  {
   "cell_type": "code",
   "execution_count": 11,
   "metadata": {},
   "outputs": [
    {
     "data": {
      "text/plain": [
       "array([[ 0.,  0.,  0., ...,  0.,  0.,  0.],\n",
       "       [ 0.,  0.,  0., ...,  0.,  0.,  0.],\n",
       "       [ 0.,  0.,  0., ...,  0.,  0.,  0.],\n",
       "       ..., \n",
       "       [ 0.,  0.,  0., ...,  0.,  0.,  0.],\n",
       "       [ 0.,  0.,  0., ...,  0.,  0.,  0.],\n",
       "       [ 0.,  0.,  0., ...,  0.,  0.,  0.]])"
      ]
     },
     "execution_count": 11,
     "metadata": {},
     "output_type": "execute_result"
    }
   ],
   "source": [
    "train_data_matrix2"
   ]
  },
  {
   "cell_type": "code",
   "execution_count": 12,
   "metadata": {},
   "outputs": [],
   "source": [
    "user_similarity1=pairwise_distances(train_data_matrix2, metric='correlation')"
   ]
  },
  {
   "cell_type": "code",
   "execution_count": 13,
   "metadata": {},
   "outputs": [],
   "source": [
    "item_similarity1 = pairwise_distances(train_data_matrix2.T, metric='correlation')"
   ]
  },
  {
   "cell_type": "code",
   "execution_count": 14,
   "metadata": {},
   "outputs": [],
   "source": [
    "def predict(rating, similarity, type1):\n",
    "    if type1=='user':\n",
    "        mean_user_rating=rating.mean(axis=1)\n",
    "        #print('rating',rating.head(2))\n",
    "        #print(mean_user_rating.shape)\n",
    "        rating_diff=(rating-mean_user_rating[:, np.newaxis])\n",
    "        #print(rating_diff.shape)\n",
    "        pred=mean_user_rating[:,np.newaxis] + similarity.dot(rating_diff)/np.array([np.abs(similarity).sum(axis=1)]).T\n",
    "    elif type1 == 'item':\n",
    "        pred = rating.dot(similarity) / np.array([np.abs(similarity).sum(axis=1)])\n",
    "    return pred"
   ]
  },
  {
   "cell_type": "code",
   "execution_count": 18,
   "metadata": {},
   "outputs": [],
   "source": [
    "user_pred=predict(train_data_matrix2, user_similarity1, type1='user')\n"
   ]
  },
  {
   "cell_type": "code",
   "execution_count": 19,
   "metadata": {},
   "outputs": [],
   "source": [
    "item_pred = predict(train_data_matrix2, item_similarity1, type1='item')"
   ]
  },
  {
   "cell_type": "code",
   "execution_count": 26,
   "metadata": {},
   "outputs": [
    {
     "name": "stdout",
     "output_type": "stream",
     "text": [
      "[[ 0.00095057  0.00095034  0.00095034 ...,  0.00095034  0.00095034\n",
      "   0.00095034]\n",
      " [ 0.00118757  0.00118761  0.00118761 ...,  0.00118761  0.00118761\n",
      "   0.00118761]\n",
      " [ 0.00118769  0.00118767  0.00118767 ...,  0.00118767  0.00118767\n",
      "   0.00118767]\n",
      " ..., \n",
      " [ 0.00118994  0.0011888   0.0011888  ...,  0.0011888   0.0011888\n",
      "   0.0011888 ]\n",
      " [ 0.00118757  0.00118761  0.00118761 ...,  0.00118761  0.00118761\n",
      "   0.00118761]\n",
      " [ 0.00118769  0.00118767  0.00118767 ...,  0.00118767  0.00118767\n",
      "   0.00118767]]\n"
     ]
    }
   ],
   "source": [
    "#print(user_pred)\n",
    "print(item_pred)"
   ]
  },
  {
   "cell_type": "code",
   "execution_count": 27,
   "metadata": {},
   "outputs": [],
   "source": [
    "import math\n",
    "from math import sqrt\n",
    "def rmse(prediction, ground_truth):\n",
    "    prediction = prediction[ground_truth.nonzero()].flatten()\n",
    "    ground_truth = ground_truth[ground_truth.nonzero()].flatten()\n",
    "    return sqrt(mean_squared_error(prediction, ground_truth)), mean_squared_error(prediction, ground_truth)"
   ]
  },
  {
   "cell_type": "code",
   "execution_count": 22,
   "metadata": {},
   "outputs": [
    {
     "name": "stdout",
     "output_type": "stream",
     "text": [
      "User-based MSE :  19.2464876858\n",
      "User-based RMSE :  4.387081910084406\n"
     ]
    }
   ],
   "source": [
    "rmse,mse=rmse(user_pred, test_data_matrix2)\n",
    "print('User-based MSE : ' ,mse)\n",
    "print('User-based RMSE : ' ,rmse)"
   ]
  },
  {
   "cell_type": "code",
   "execution_count": 30,
   "metadata": {},
   "outputs": [
    {
     "name": "stdout",
     "output_type": "stream",
     "text": [
      "Item-based MSE :  18.564849\n",
      "Item-based RMSE : 4.30869458188904\n"
     ]
    }
   ],
   "source": [
    "rmse1,mse1=rmse(item_pred, test_data_matrix2)\n",
    "print('Item-based MSE : ' ,mse1)\n",
    "print('Item-based RMSE : ',rmse1)"
   ]
  },
  {
   "cell_type": "code",
   "execution_count": null,
   "metadata": {},
   "outputs": [],
   "source": []
  }
 ],
 "metadata": {
  "kernelspec": {
   "display_name": "Python 3",
   "language": "python",
   "name": "python3"
  },
  "language_info": {
   "codemirror_mode": {
    "name": "ipython",
    "version": 3
   },
   "file_extension": ".py",
   "mimetype": "text/x-python",
   "name": "python",
   "nbconvert_exporter": "python",
   "pygments_lexer": "ipython3",
   "version": "3.6.3"
  }
 },
 "nbformat": 4,
 "nbformat_minor": 4
}
